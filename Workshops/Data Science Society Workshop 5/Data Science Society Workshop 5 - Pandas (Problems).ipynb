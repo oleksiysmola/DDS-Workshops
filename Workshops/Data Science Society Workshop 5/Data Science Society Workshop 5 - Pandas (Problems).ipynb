{
 "cells": [
  {
   "cell_type": "markdown",
   "metadata": {},
   "source": [
    "## Data Science Society Workshop 5: Pandas (Problems)\n",
    "#### Importanting Modules"
   ]
  },
  {
   "cell_type": "code",
   "execution_count": null,
   "metadata": {},
   "outputs": [],
   "source": [
    "## RUN THIS CODE CELL BEFORE ATTEMPTING ANY QUESTIONS\n",
    "# Importing Numpy\n",
    "import numpy as np\n",
    "\n",
    "# Importing Matplotlib\n",
    "import matplotlib.pyplot as plt\n",
    "\n",
    "# Ensure that graphs are displayed within the notebook\n",
    "%matplotlib inline\n",
    "\n",
    "# Importing Pandas\n",
    "import pandas as pd"
   ]
  },
  {
   "cell_type": "markdown",
   "metadata": {},
   "source": [
    "### Debugging Problems\n",
    "#### 1) Generating Data Frames: pd.DataFrame\n",
    "The code below generates a data frame of the highest recorded temperatures in London for the week 19-25 August according to https://www.timeanddate.com/weather/uk/london/historic. However, the columns are mixed up with the rows. Rectify this so that the values in the first column (not the index column) are the column names and items further along the row are under that column. Note that ````$^\\circ C$```` is just LaTeX that gives the units for temperature as a mathmatical symbol so don't just treat this as part of the string. Hint: think about the type of input this function takes and how these get converted to data frames."
   ]
  },
  {
   "cell_type": "code",
   "execution_count": null,
   "metadata": {},
   "outputs": [],
   "source": [
    "## PROBLEM CODE CELL\n",
    "# Generates a data frame\n",
    "df = pd.DataFrame(\n",
    "    [[\"Day\", \"Monday\", \"Tuesday\", \"Wednesday\", \"Thursday\", \"Friday\", \"Saturday\", \"Sunday\"],\n",
    "    [\"Highest Temperature $^\\circ C$\", 21,21,23,23,27,30,33]]\n",
    "                     )\n",
    "\n",
    "# Displays the data frame\n",
    "df"
   ]
  },
  {
   "cell_type": "markdown",
   "metadata": {},
   "source": [
    "#### 2) Generating Data Frames: pd.read_csv\n",
    "The following code is intended to convert a csv file that contains a table from https://en.wikipedia.org/wiki/Elementary_particle into a data frame. **Do not edit the file**. Hint: Open the file to look at the fomatting and think of other arguments that may need to be passed to account for this. The correct data frame should consist of four columns: Particle Symbol, Particle name, Mass Value (MeV/c²) and Quark mass estimation scheme (point). "
   ]
  },
  {
   "cell_type": "code",
   "execution_count": null,
   "metadata": {},
   "outputs": [],
   "source": [
    "## PROBLEM CODE CELL\n",
    "# Converts csv to data frame\n",
    "df = pd.read_csv(\"FundamentalParticles.csv\")\n",
    "\n",
    "# Displays data frame\n",
    "df"
   ]
  },
  {
   "cell_type": "markdown",
   "metadata": {},
   "source": [
    "#### 3) Manipulating Data Frames\n",
    "The code below is intended to remove any row where the last word in the \"Particle name\" column isn't \"quark\". Note that the problem contains a slice of the form ```x[-1]```. This is perfectly fine as you can input a negative number for a slice as Python will simply work from the last value working back to the first as you increase a negative slice ie ````x[-1]```` returns the last array value, ````x[-2]```` returns the second to last array value and so forth. Hint: Think of how data frames are sliced and do any of the functions below appear to be missing arguments? You may also have to rerun the previous code cell to ensure the data frame doesn't change too much while you've been changing the code below to the correct form."
   ]
  },
  {
   "cell_type": "code",
   "execution_count": null,
   "metadata": {
    "scrolled": false
   },
   "outputs": [],
   "source": [
    "## PROBLEM CODE CELL\n",
    "# Loop over all rows\n",
    "for i in range(len(df)):\n",
    "    # Defines x as current column item\n",
    "    x = df[i]\n",
    "    \n",
    "    # Splits the string x into a list seperated by spaces\n",
    "    x.split()\n",
    "    \n",
    "    # If the last word is not quark\n",
    "    if x[-1] != \"quark\":\n",
    "        # Drop current row from data frame\n",
    "        df.drop(i)\n",
    "\n",
    "# Displays data frame\n",
    "df"
   ]
  },
  {
   "cell_type": "markdown",
   "metadata": {},
   "source": [
    "### Coding From Scratch\n",
    "#### 1) Generating Data Frames\n",
    "Turn the data with the file \"Translational.csv\" into a data frame and display the first 30 entries of the data frame."
   ]
  },
  {
   "cell_type": "code",
   "execution_count": null,
   "metadata": {
    "scrolled": false
   },
   "outputs": [],
   "source": []
  },
  {
   "cell_type": "markdown",
   "metadata": {},
   "source": [
    "#### 2) Statistical Parameters from Data Frames\n",
    "Find the mean, standard deviation, minimum value, and maximum value of the potential column. It doesn't matter if other values such as \"count\" are included in the output so long as you return the mean, standard deviation, minimum value, and maximum value."
   ]
  },
  {
   "cell_type": "code",
   "execution_count": null,
   "metadata": {},
   "outputs": [],
   "source": []
  },
  {
   "cell_type": "markdown",
   "metadata": {},
   "source": [
    "#### 3) Adding Columns \n",
    "The data frame above is missing a column. Create a new \"Distance Moved/Å\" column where every ten values range from $0.0$ to $1.8$ with a spacing of $0.2$. Hint: Start by creating two identical Numpy arrays ranging from $0$ to $1.8$ with a spacing of $0.2$. Use a loop to keep merging one of these arrays with the other. The number of times this runs should be based on the length of the data frame compared with the length of the array. Once you have an array of the same length as the data frame use it to create your new column."
   ]
  },
  {
   "cell_type": "code",
   "execution_count": null,
   "metadata": {},
   "outputs": [],
   "source": []
  },
  {
   "cell_type": "markdown",
   "metadata": {},
   "source": [
    "#### 4) Plotting\n",
    "Plot the first 10 values in the potential column against the distance moved column. Axes labels should be consistent match the columns of the data frame and title the graph \"Potential of H2O against distance moved in carbon nanotube\". Make sure the graph is of an appropriate size so the title can be seen clearly."
   ]
  },
  {
   "cell_type": "code",
   "execution_count": null,
   "metadata": {},
   "outputs": [],
   "source": []
  },
  {
   "cell_type": "markdown",
   "metadata": {},
   "source": [
    "#### 5) Converting Tables From Websites to Data Frames\n",
    "Create a data frame from the table on the website https://www.science.co.il/elements/. The data frame will consist of a number of columns. Ensure the data frame only consists of the \"AtomicWeight, \"Name\" and \"Sym.\" columns along with an index column. Drop the row indexed $109$ and display the data frame."
   ]
  },
  {
   "cell_type": "code",
   "execution_count": null,
   "metadata": {},
   "outputs": [],
   "source": []
  },
  {
   "cell_type": "markdown",
   "metadata": {},
   "source": [
    "#### 6) Manipulating Data Frames\n",
    "Create a ```mass_finder``` function passing two arguments. The first should be a string and the second your masses data frame. Inside the function loop over the masses data frame to search for a chemical symbol in the \"Sym.\" column that matches that string. Once this is found return the corresponding mass from the \"AtomicWeight\" column. Test your function by using your function on \"Po\" and print the result. Hint: You'll likely need at least one conditional statement."
   ]
  },
  {
   "cell_type": "code",
   "execution_count": null,
   "metadata": {},
   "outputs": [],
   "source": []
  },
  {
   "cell_type": "markdown",
   "metadata": {},
   "source": [
    "#### 7) Converting to csv File\n",
    "Convert the masses table to a csv file names \"AtomicMasses.csv\". Ensure there is no index column in the file."
   ]
  },
  {
   "cell_type": "code",
   "execution_count": null,
   "metadata": {},
   "outputs": [],
   "source": []
  }
 ],
 "metadata": {
  "kernelspec": {
   "display_name": "Python 3",
   "language": "python",
   "name": "python3"
  },
  "language_info": {
   "codemirror_mode": {
    "name": "ipython",
    "version": 3
   },
   "file_extension": ".py",
   "mimetype": "text/x-python",
   "name": "python",
   "nbconvert_exporter": "python",
   "pygments_lexer": "ipython3",
   "version": "3.7.3"
  }
 },
 "nbformat": 4,
 "nbformat_minor": 2
}
