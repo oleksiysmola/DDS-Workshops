{
 "cells": [
  {
   "cell_type": "markdown",
   "metadata": {},
   "source": [
    "## Data Science Workshop 1: Fundamentals of Python\n",
    "Welcome to the first Data Science Society workshop on Python! The aim of these workshops will be to teach you enough Python so that you'll be able to use machine learning algorithms on various datasets for data analysis. We will be avoiding the more complex maths behind these algorithms leaning instead towards packages like Scikit Learn which already provide us with these algorithms. To begin with we will cover the very basics of Python. The workshop will mainly go over the Numpy, Matplotlib, Pandas and Scikit Learn packages but there are many more in Python that will not be covered in the workshops.\n",
    "\n",
    "### Jupyter Notebook\n",
    "Throughout these workshops we will be using the Jupyter Notebook editor. In this editor code is run in code cells and text is run in markdown cells. You can change the type of cell using at the top of the page below the words Kernel and Widgets. The options to edit cells are found at the top of the page: \"+\" to create a new cell, scissors to cut a cell etc.\n",
    "#### Markdown Cells\n",
    "The text you are reading now is in a markdown cell. To edit the text double click on the cell. To run the cell press Shift + Enter. These cells don't actually run code but mainly serve as a means of allowing you to describe what your code is supposed to do, so that you can inform someone else or remind yourself of what your code is doing when you revisit it. These cells also allow for the formatting of equations when you place something in between two single dollar signs. For instance: $ E = mc^2 $. Doing so between two double dollar signs places the equation on a new line like so: $$ \\nabla \\cdot B = 0. $$ \n",
    "Don't worry about what these equations mean!\n",
    "#### Code Cells\n",
    "Code cells are as the name the suggests where you actually write you're code. You can run a code cell by pressing Shift + Enter to run the code in that cell. When you run a cell the output will be displayed below the code cell. Below is a code cell for you to run. "
   ]
  },
  {
   "cell_type": "code",
   "execution_count": null,
   "metadata": {},
   "outputs": [],
   "source": [
    "print(\"If you are reading this, this cell has been run!\")"
   ]
  },
  {
   "cell_type": "markdown",
   "metadata": {},
   "source": [
    "### Commenting \n",
    "Inside code cells you can write notes by using the # symbol. Putting it in front of a line of code means that code won't be run when running the cell. This is useful when you want to see what removing a line of code briefly without deleting the line entirely and having to rewrite it again. Additionally, the # symbol is used in commenting on your code so that another user, or yourself when you return to the code can figure out what that code does. It is good practice to leave comments in your code however they should be consise to avoid overcommenting that may make your code harder to read. If ever in doubt imagine that if you ever undercomment two kittens die and if you ever overcomment one kitten dies. Below is a code cell identical to the one above save for the fact the # symbol is in front of the line of code. If you run the code you will not see any output."
   ]
  },
  {
   "cell_type": "code",
   "execution_count": null,
   "metadata": {},
   "outputs": [],
   "source": [
    "# print(\"If you are reading this, this cell has been run!\")"
   ]
  },
  {
   "cell_type": "markdown",
   "metadata": {},
   "source": [
    "### Print Statements\n",
    "One of the most basic functions in Python is the ````print```` statement we used above. As the name suggests it \"prints\" the argument you pass through it. What happens if we run the first code without the ````print```` statement?"
   ]
  },
  {
   "cell_type": "code",
   "execution_count": null,
   "metadata": {},
   "outputs": [],
   "source": [
    "\"If you are reading this, this cell has been run!\""
   ]
  },
  {
   "cell_type": "markdown",
   "metadata": {},
   "source": [
    "The cell still produces the output. What if we had had two lines instead."
   ]
  },
  {
   "cell_type": "code",
   "execution_count": null,
   "metadata": {},
   "outputs": [],
   "source": [
    "\"Line 1\"\n",
    "\"Line 2\""
   ]
  },
  {
   "cell_type": "markdown",
   "metadata": {},
   "source": [
    "Only the last line of code is outputted. Having each line inside ````print```` statements means both will be outputted."
   ]
  },
  {
   "cell_type": "code",
   "execution_count": null,
   "metadata": {},
   "outputs": [],
   "source": [
    "print(\"Line 1\")\n",
    "print(\"Line 2\")"
   ]
  },
  {
   "cell_type": "markdown",
   "metadata": {},
   "source": [
    "Commas in ````print```` statements and indeed in all functions are used to seperate different arguments. In ````print```` statements you typically do this when \"printing\" different data types. Passing ````print(\"The population of London is\", 8.136, \"million\")```` will output ````The population of London is 8.136 million````. As can be seen each argument is printed with a space in between them. For this example the arguments in quotation marks are strings; essentially a set of characters, while the second argument is a float; essentially a number. We will discuss data types in more detail later."
   ]
  },
  {
   "cell_type": "code",
   "execution_count": null,
   "metadata": {},
   "outputs": [],
   "source": [
    "print(\"The population of London is\", 8.136, \"million\")"
   ]
  },
  {
   "cell_type": "markdown",
   "metadata": {},
   "source": [
    "Now use the print statement in the code cell below to print a message of your choosing."
   ]
  },
  {
   "cell_type": "code",
   "execution_count": null,
   "metadata": {},
   "outputs": [],
   "source": [
    "print()"
   ]
  },
  {
   "cell_type": "markdown",
   "metadata": {},
   "source": [
    "### Basic Operations\n",
    "Below are some basic mathmatical operations that are coded in the code cell that follows.\n",
    "$$ 2 + 2 = 4 $$\n",
    "$$ 5 - 2 = 3 $$\n",
    "$$ 2 \\times 4 = 8 $$\n",
    "$$ \\frac{6}{3} = 2 $$\n",
    "$$ 5^3 = 125 $$\n",
    "Running the code cell below should give you the right hand side of each equation."
   ]
  },
  {
   "cell_type": "code",
   "execution_count": null,
   "metadata": {},
   "outputs": [],
   "source": [
    "# Addition\n",
    "print(\"Addition:\", 2 + 2)\n",
    "\n",
    "# Subtraction \n",
    "print(\"Subtraction:\", 5 - 2)\n",
    "\n",
    "# Multiplication\n",
    "print(\"Multiplication:\", 2*4)\n",
    "\n",
    "# Division\n",
    "print(\"Division:\", 6/3)\n",
    "\n",
    "# Powers\n",
    "print(\"Powers:\", 5**3)\n",
    "\n",
    "# Division without remainder \n",
    "print(\"Divison without remainder:\", 7//3)\n",
    "\n",
    "# Returns remainder\n",
    "print(\"Division returning the remainder:\", 7%3)"
   ]
  },
  {
   "cell_type": "markdown",
   "metadata": {},
   "source": [
    "Be aware that is often easy to make syntax errors when performing mathmatical operations. Sometimes this involves writing something to the effect of ````2x```` instead of ````2*x```` where the former would look for a variable defined as ````2x```` and the latter would multiply a variable ````x```` by $2$. In large calculations when using brackets it is very easy to make mistakes so be alert for potential mistakes. Clarity of code is important to help make it easier to read and spot mistakes. Often rather than having an entire calculation in one messy line of code its often best to split the calculation into several lines that are easier to read. \n",
    "\n",
    "In the code cell below print the result of the following operations: $$ 4^7 $$ $$ 8\\times123 $$ $$ \\frac{4523}{84} $$"
   ]
  },
  {
   "cell_type": "code",
   "execution_count": null,
   "metadata": {},
   "outputs": [],
   "source": [
    "# 4 to the power of 7\n",
    "print()\n",
    "\n",
    "# 8 x 123\n",
    "print()\n",
    "\n",
    "# 4523 divided by 84\n",
    "print()"
   ]
  },
  {
   "cell_type": "markdown",
   "metadata": {},
   "source": [
    "### Defining variables \n",
    "You can define variables then redefine later in the following ways:"
   ]
  },
  {
   "cell_type": "code",
   "execution_count": null,
   "metadata": {},
   "outputs": [],
   "source": [
    "# Defining a variable x as 5\n",
    "x = 5\n",
    "print(\"x =\", x)\n",
    "\n",
    "# Redefining a variable x as a string \"string\"\n",
    "x = \"string\"\n",
    "print(\"x =\", x)\n",
    "\n",
    "# Redefining a variable x as 7\n",
    "x = 7 \n",
    "print(\"x =\", x)\n",
    "\n",
    "# Redefining x as 8 by adding 1 (The same can be done for other mathmatical operations)\n",
    "x = x + 1\n",
    "print(\"x =\", x)\n",
    "\n",
    "# Redefining x as 9 by adding 1 (The same can be done for other mathmatical operations)\n",
    "x += 1\n",
    "print(\"x =\", x)"
   ]
  },
  {
   "cell_type": "markdown",
   "metadata": {},
   "source": [
    "In the code cell below, define a variable ````x```` to be a number $12$ and then print it it by calling the variable ````x````. Then define ````x```` as a string of your choice and print this string by passing ````x```` in a print statement."
   ]
  },
  {
   "cell_type": "code",
   "execution_count": null,
   "metadata": {},
   "outputs": [],
   "source": [
    "x = \n",
    "print()\n",
    "\n",
    "x = \n",
    "print()"
   ]
  },
  {
   "cell_type": "markdown",
   "metadata": {},
   "source": [
    "### Lists \n",
    "What happens if you have a set of items you want to assign to one variable. For this we can use lists. "
   ]
  },
  {
   "cell_type": "code",
   "execution_count": null,
   "metadata": {},
   "outputs": [],
   "source": [
    "# Defining a variable y as a list \n",
    "y = [1,2,3,4]\n",
    "print(\"y =\",y)\n",
    "\n",
    "# One can even have a list of lists\n",
    "y = [y,y]\n",
    "print(\"y =\",y)\n",
    "\n",
    "# Defining two variables at once from a list\n",
    "x, y = [1,2]\n",
    "print(\"x =\", x, \", y =\",y)"
   ]
  },
  {
   "cell_type": "markdown",
   "metadata": {},
   "source": [
    "In the code cell below define a list ````y```` to be $[0,5,10,15,20]$ and print it. Then define three variables ````x````,````y```` and ````z```` as $5$, $9$ and $4$ respectively in the same line using a list. In the same print statement print these three variables."
   ]
  },
  {
   "cell_type": "code",
   "execution_count": null,
   "metadata": {},
   "outputs": [],
   "source": [
    "# Define y as a list\n",
    "y =\n",
    "print()\n",
    "\n",
    "# Defining three variables\n",
    "x, y, z = \n",
    "print()"
   ]
  },
  {
   "cell_type": "markdown",
   "metadata": {},
   "source": [
    "Lists can be sliced so that you can pick a particular item from the list. This is done by writing ````y[i]````, where ````y```` is a list and ````i```` is the index of the list. What is an index? An index is effectively a label for each item in the list. The labels correspond to the items place in the list. One thing to bare in mind is that Python starts counting from $0$ so when slicing the first item has an index $0$, the second an index $1$ and so forth. One can also select sections of a list using colons. Examples are displayed below."
   ]
  },
  {
   "cell_type": "code",
   "execution_count": null,
   "metadata": {},
   "outputs": [],
   "source": [
    "# Defining a variable y as a list \n",
    "y = [1,2,3,4,5,6,7,8,9,10]\n",
    "\n",
    "# Single items from the list\n",
    "print(\"First item in list:\", y[0])\n",
    "print(\"Second item in list:\", y[1])\n",
    "\n",
    "# Section from the list\n",
    "# Nothing before colon meand the first index is the start, the last index is the one before the number after the colon\n",
    "print(\"First to third item:\", y[:3])\n",
    "\n",
    "# Number before colon indicates starting index, no number after colon indicates the end point is the last index\n",
    "print(\"Seventh to last item in list:\", y[6:])\n",
    "\n",
    "# Number before colon is the starting index, last index is the one just before the number after the colon\n",
    "print(\"Fourth to sixth item:\", y[3:6])"
   ]
  },
  {
   "cell_type": "markdown",
   "metadata": {},
   "source": [
    "In the code cell below print the slice of all values from $5$ to $10$ inclusive and all values from $4$ to $9$ inclusive from the list ````y````."
   ]
  },
  {
   "cell_type": "code",
   "execution_count": null,
   "metadata": {},
   "outputs": [],
   "source": [
    "# Slice from 5 to 10 inclusive\n",
    "print(y[])\n",
    "\n",
    "# Slice from 7 to 9 inclusive\n",
    "print(y[])"
   ]
  },
  {
   "cell_type": "markdown",
   "metadata": {},
   "source": [
    "### Data Types\n",
    "Notice how the code above produces $2.0$ as the output instead of $2$ for division. Is there any difference? The answer is yes as $2.0$ is a float and $2$ is an integer. This may seem a trivial distinction but it can be important as some functions will only take integers as so if you pass float instead you'll recieve an error. Both floats and integers are real numbers but the integer lacks any decimal points. In addition to floats and integers there are also strings which are a collection of characters, often text but sometimes numbers. Using the functions: ````str````, ````float```` and ````int```` you can convert between these data types provided the input can be interpreted as the type of data you are converting to. Examples are given in the cell below."
   ]
  },
  {
   "cell_type": "code",
   "execution_count": null,
   "metadata": {},
   "outputs": [],
   "source": [
    "# Converting to float (The input \"2\" is a string)\n",
    "print(float(\"2\"))\n",
    "\n",
    "# Converting to integer (The input 2.0 is a float)\n",
    "print(int(2.0))\n",
    "\n",
    "# Converting to string (The input 2 is an integer)\n",
    "print(str(2))\n",
    "\n",
    "# Trying to add a string and number\n",
    "print(2 + str(2))"
   ]
  },
  {
   "cell_type": "markdown",
   "metadata": {},
   "source": [
    "#### Strings\n",
    "As can be seen above the attempt to add an integer and string together failed. This shows how the two data types behave differently. One can add strings together as follows:"
   ]
  },
  {
   "cell_type": "code",
   "execution_count": null,
   "metadata": {},
   "outputs": [],
   "source": [
    "# Adding two strings\n",
    "print(\"2\" + \"5\")\n",
    "print(\"H\" + \"i\")"
   ]
  },
  {
   "cell_type": "markdown",
   "metadata": {},
   "source": [
    "In the code cell below add the strings \"Ye\" and \"et\" together outputting the result."
   ]
  },
  {
   "cell_type": "code",
   "execution_count": null,
   "metadata": {},
   "outputs": [],
   "source": [
    "print()"
   ]
  },
  {
   "cell_type": "markdown",
   "metadata": {},
   "source": [
    "Strings are essentially lists of characters. One can pick out specific characters in a string by slicing the string as you would a list. Once again Python starts counting from $0$. Strings seperated with spaces may also be split into a list of strings. This means that if your string was a sentence then you could split it into the a list containing the words that make up that sentance. This is all demonstrated below."
   ]
  },
  {
   "cell_type": "code",
   "execution_count": null,
   "metadata": {},
   "outputs": [],
   "source": [
    "# Defining x as a specific string\n",
    "x = \"One does not simply walk into ExCel.\"\n",
    "\n",
    "# First character of the string x\n",
    "print(x[0])\n",
    "\n",
    "# Third character of the string x\n",
    "print(x[2])\n",
    "\n",
    "# First three characters of string x\n",
    "print(x[:3])\n",
    "\n",
    "# Fifth to eigth character of string x\n",
    "print(x[4:8])\n",
    "\n",
    "# Splitting the string x into a list of strings\n",
    "x = x.split()\n",
    "print(\"Upon splitting the string we get:\", x)\n",
    "\n",
    "# Prints seventh word/term of the split string x (One could also have used x.split()[6] instead) \n",
    "print(x[6])\n",
    "\n",
    "# Prints first letter in the seventh word/term of the split string x\n",
    "print(x[6][0])"
   ]
  },
  {
   "cell_type": "markdown",
   "metadata": {},
   "source": [
    "In the code cell below define ````y```` as a string of your choosing though one consisting of multiple words. Print the first five characters of the string. Then split the string and print the second word by slicing the split string."
   ]
  },
  {
   "cell_type": "code",
   "execution_count": null,
   "metadata": {},
   "outputs": [],
   "source": [
    "# Define x as a string\n",
    "y = \n",
    "# Return first five characters\n",
    "print(y[])\n",
    "\n",
    "# Split the string \n",
    "y = \n",
    "# Return second word\n",
    "print(y[])"
   ]
  },
  {
   "cell_type": "markdown",
   "metadata": {},
   "source": [
    "### Dictionaries\n",
    "Dictionaries are an indexed list of items. Each item consists of a key and a value assigned to that key. Both keys and values can be integers, floats or strings. An example is showed below. Here the planet names are the keys and the number assigned to each one is the value."
   ]
  },
  {
   "cell_type": "code",
   "execution_count": null,
   "metadata": {},
   "outputs": [],
   "source": [
    "# Defining a dictionary for the planets in the Solar System\n",
    "planets = {\n",
    "    \"Mercury\": 1,\n",
    "    \"Venus\": 2,\n",
    "    \"Earth\": 3,\n",
    "    \"Mars\": 4,\n",
    "    \"Jupiter\": 5,\n",
    "    \"Saturn\": 6,\n",
    "    \"Uranus\": 7,       \n",
    "            } \n",
    "\n",
    "# Return the value for \"Saturn\"\n",
    "planets[\"Saturn\"]"
   ]
  },
  {
   "cell_type": "markdown",
   "metadata": {},
   "source": [
    "You can add new items in a dictionary simply by defining a value for a new key as follows:"
   ]
  },
  {
   "cell_type": "code",
   "execution_count": null,
   "metadata": {},
   "outputs": [],
   "source": [
    "# Adds new item to planets dictionary\n",
    "planets[\"Neptune\"] = 8\n",
    "\n",
    "print(planets)"
   ]
  },
  {
   "cell_type": "code",
   "execution_count": null,
   "metadata": {},
   "outputs": [],
   "source": [
    "# The same can be done for empty dictionaries\n",
    "emptydict = {}\n",
    "\n",
    "# Adding new item to emptydict\n",
    "emptydict[\"Best Science\"] = \"Physics\"\n",
    "print(emptydict)"
   ]
  },
  {
   "cell_type": "markdown",
   "metadata": {},
   "source": [
    "In the code cell below define an empty dictionary as a variable called ````shopping_list````. Fill this dictionary with a shopping list of your choice. Include four objects or more in the list. The key should be the item on the list and the value should be the price (doesn't need to be accurate). Once the list is complete print out the resulting dictionary."
   ]
  },
  {
   "cell_type": "code",
   "execution_count": null,
   "metadata": {},
   "outputs": [],
   "source": [
    "# Defining an empty dictionary\n",
    "shopping_list = \n",
    "\n",
    "# Filling the shopping list\n",
    "shopping_list[] = \n",
    "shopping_list[] = \n",
    "shopping_list[] = \n",
    "shopping_list[] = \n",
    "\n",
    "# Print the shopping list\n",
    "print()"
   ]
  },
  {
   "cell_type": "markdown",
   "metadata": {},
   "source": [
    "## Further Work (Optional)\n",
    "At the end of the workshops I may include content that I feel is too maths oriented for the workshops. The idea here is that you are free to explore these but they will not be covered in workshops. \n",
    "### Complex Numbers\n",
    "In addition to the float and integer data types there is also a complex number data type. The function ````complex(u,v)```` generates a complex number with a real component ````u```` and imaginary component ````v````. Note that $j$ is used as the imaginary unit in Python."
   ]
  },
  {
   "cell_type": "code",
   "execution_count": null,
   "metadata": {},
   "outputs": [],
   "source": [
    "# Creates a complex number z = 2 + 4j\n",
    "z = complex(2,4)\n",
    "print(z)\n",
    "\n",
    "# Alternatively \n",
    "z = 2 + 4j\n",
    "print(z)\n",
    "\n",
    "# Real part of z\n",
    "z_real = z.real\n",
    "print(z_real)\n",
    "\n",
    "# Imaginary part of z\n",
    "z_imag = z.imag\n",
    "print(z_imag)\n",
    "\n",
    "# Returns the conjugate of the complex number\n",
    "z_conj = z.conjugate()\n",
    "print(z_conj)"
   ]
  }
 ],
 "metadata": {
  "kernelspec": {
   "display_name": "Python 3",
   "language": "python",
   "name": "python3"
  },
  "language_info": {
   "codemirror_mode": {
    "name": "ipython",
    "version": 3
   },
   "file_extension": ".py",
   "mimetype": "text/x-python",
   "name": "python",
   "nbconvert_exporter": "python",
   "pygments_lexer": "ipython3",
   "version": "3.7.3"
  }
 },
 "nbformat": 4,
 "nbformat_minor": 2
}
