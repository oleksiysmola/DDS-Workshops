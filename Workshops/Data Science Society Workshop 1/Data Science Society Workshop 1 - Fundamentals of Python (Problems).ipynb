{
 "cells": [
  {
   "cell_type": "markdown",
   "metadata": {},
   "source": [
    "## Data Science Workshop 1: Fundamentals of Python (Problems)\n",
    "Feel free to go through to refer back to the workshop content when solving these problems!\n",
    "### Debugging problems\n",
    "The following problems will have written code that is incorrect in some way. Your job will be to debug it and fix it so that it works as intended. When debugging code the error messages can often tell you where a problem may lie. Here the comments indicate what the code is intended to do.\n",
    "#### 1)  \n",
    "Correct output should read: \n",
    "\n",
    "not\n",
    "\n",
    "n\n",
    "\n",
    "go"
   ]
  },
  {
   "cell_type": "code",
   "execution_count": null,
   "metadata": {},
   "outputs": [],
   "source": [
    "## PROBLEM CODE CELL\n",
    "# Defines a string x\n",
    "x = Something is not right here\n",
    "\n",
    "# Splits string x\n",
    "x = split()\n",
    "\n",
    "# Prints the third word\n",
    "print(x[3])\n",
    "\n",
    "# Prints the first character of the third word\n",
    "prints(x[3][1])\n",
    "\n",
    "# Adds the third character of the fourth word with the second character from the first word\n",
    "print(x[4][3] + x[1][2])"
   ]
  },
  {
   "cell_type": "markdown",
   "metadata": {},
   "source": [
    "#### 2) \n",
    "Dictionary of world university rankings according to https://www.topuniversities.com/university-rankings/world-university-rankings/2020."
   ]
  },
  {
   "cell_type": "code",
   "execution_count": null,
   "metadata": {},
   "outputs": [],
   "source": [
    "## PROBLEM CODE CELL\n",
    "# Dictionary that has a university as a key and the university ranking as the value\n",
    "uni_rankings = {\n",
    "    \"UCL\" : 8,\n",
    "    \"Oxford\" : 4,\n",
    "    \"Imperial\": 9\n",
    "    \"Harvard\": 3,\n",
    "    \"MIT\": 1,\n",
    "    \"Caltech\": 5,\n",
    "    \"Stanford\": 2,\n",
    "    \"Cambridge\" 7,\n",
    "    \"Chicago\": 10,\n",
    "    \"ETH Zurich\": 6,\n",
    "\n",
    "# Returns the rank of Caltech University\n",
    "print(uni_rankings[5])"
   ]
  },
  {
   "cell_type": "markdown",
   "metadata": {},
   "source": [
    "### Coding from scratch\n",
    "This section will include problems where no code is given.\n",
    "#### 1) \n",
    "Define a variable ````c```` to be a string of the number $299792458$. By slicing, print the first three characters of ````c```` without redefining ````c````. Redifine ````c```` as a float then square it and multiply by $50$. Store the result in a variable ````E```` then output the message \"The rest energy of a mass of 50kg is:\" followed by the value of ````E````."
   ]
  },
  {
   "cell_type": "code",
   "execution_count": null,
   "metadata": {},
   "outputs": [],
   "source": []
  },
  {
   "cell_type": "markdown",
   "metadata": {},
   "source": [
    "#### 2)\n",
    "Define a variable ````top_four_teams```` to be an empty dictionary. Fill this dictionary with the top four Premier League teams last season. The key should be the place the team finished and the value should be the name of the team. Print the filled dictionary."
   ]
  },
  {
   "cell_type": "code",
   "execution_count": null,
   "metadata": {},
   "outputs": [],
   "source": []
  }
 ],
 "metadata": {
  "kernelspec": {
   "display_name": "Python 3",
   "language": "python",
   "name": "python3"
  },
  "language_info": {
   "codemirror_mode": {
    "name": "ipython",
    "version": 3
   },
   "file_extension": ".py",
   "mimetype": "text/x-python",
   "name": "python",
   "nbconvert_exporter": "python",
   "pygments_lexer": "ipython3",
   "version": "3.7.3"
  }
 },
 "nbformat": 4,
 "nbformat_minor": 2
}
