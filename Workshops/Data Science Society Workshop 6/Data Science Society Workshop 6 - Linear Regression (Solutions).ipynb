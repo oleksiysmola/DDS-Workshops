{
 "cells": [
  {
   "cell_type": "markdown",
   "metadata": {},
   "source": [
    "## Data Science Society Workshop 6 - Linear Regression (Solutions)\n",
    "### Importing"
   ]
  },
  {
   "cell_type": "code",
   "execution_count": null,
   "metadata": {},
   "outputs": [],
   "source": [
    "import numpy as np \n",
    "import matplotlib.pyplot as plt\n",
    "import pandas as pd\n",
    "from sklearn.linear_model import LinearRegression\n",
    "from sklearn.model_selection import train_test_split\n",
    "%matplotlib inline"
   ]
  },
  {
   "cell_type": "markdown",
   "metadata": {},
   "source": [
    "### Debugging Problem\n",
    "The dataset used in the problem below consists of two columns: one for years of experience and another for salaries. An attempt was made to apply a linear regression model to the data. Debug the code to fix the model. Note, since this is a small data set I've chosen test size to be $0.5$ so that there are enough test points to plot a best fit line encompassing most of the data. This may reduce the score of the model but the line plots shouldn't change too drastically as a result. The score should be consistently above $0.9$ when running the code multiple times."
   ]
  },
  {
   "cell_type": "code",
   "execution_count": null,
   "metadata": {
    "scrolled": false
   },
   "outputs": [],
   "source": [
    "## SETUP CODE CELL DO NOT CHANGE\n",
    "# Convert csv to data frame\n",
    "salary_data = pd.read_csv(\"Salary_Data.csv\")\n",
    "salary_data"
   ]
  },
  {
   "cell_type": "code",
   "execution_count": null,
   "metadata": {},
   "outputs": [],
   "source": [
    "## PROBLEM CODE CELL\n",
    "# Independent variable\n",
    "X = salary_data[\"YearsExperience\"].values.reshape(-1,1)\n",
    "\n",
    "# Dependent variable\n",
    "y = salary_data[\"Salary\"].values.reshape(-1,1)\n",
    "\n",
    "# Preprocessing into training and test sets\n",
    "X_train, y_train, X_test, y_test = train_test_split(X,y,test_size=0.5)\n",
    "\n",
    "regressor = LinearRegression()\n",
    "\n",
    "# Training the regressor\n",
    "fit = regressor.fit(X_train, y_train)\n",
    "\n",
    "# Obtaining predicted results from the test data\n",
    "y_pred = fit.predict(X_test)\n",
    "\n",
    "# Plotting the line of best fit\n",
    "plt.figure()\n",
    "plt.grid(True)\n",
    "plt.plot(X,y,\"r.\")\n",
    "plt.plot(X_test,y_pred)\n",
    "plt.title(\"Experience vs Salary\")\n",
    "plt.xlabel(\"Experience\")\n",
    "plt.ylabel(\"Salary\")\n",
    "\n",
    "# Scores the model\n",
    "fit.score(X_test,y_test)"
   ]
  },
  {
   "cell_type": "code",
   "execution_count": null,
   "metadata": {
    "scrolled": true
   },
   "outputs": [],
   "source": [
    "## SOLUTION CODE CELL\n",
    "# Independent variable\n",
    "X = salary_data[\"YearsExperience\"].values.reshape(-1,1)\n",
    "\n",
    "# Dependent variable\n",
    "y = salary_data[\"Salary\"].values.reshape(-1,1)\n",
    "\n",
    "# Preprocessing into training and test sets\n",
    "X_train, X_test, y_train, y_test = train_test_split(X,y,test_size=0.5)\n",
    "\n",
    "# Defining our regressor\n",
    "regressor = LinearRegression()\n",
    "\n",
    "# Training the regressor\n",
    "fit = regressor.fit(X_train, y_train)\n",
    "\n",
    "# Obtaining predicted results from the test data\n",
    "y_pred = fit.predict(X_test)\n",
    "\n",
    "# Plotting the line of best fit\n",
    "plt.figure()\n",
    "plt.grid(True)\n",
    "plt.plot(X,y,\"r.\")\n",
    "plt.plot(X_test,y_pred)\n",
    "plt.title(\"Experience vs Salary\")\n",
    "plt.xlabel(\"Experience\")\n",
    "plt.ylabel(\"Salary\")\n",
    "\n",
    "# Scores the model\n",
    "fit.score(X_test,y_test)"
   ]
  },
  {
   "cell_type": "markdown",
   "metadata": {},
   "source": [
    "### Building your own model\n",
    "The data set \"fish-market.zip\" contains data on the lengths, height and width of fish for various fish species. The function ````pd.read_csv```` can open csv files within zip files so just use the zip file name as the argument for this function. From this csv file create one data frame for each fish species where data for the other species has been removed. Then define a function which splits takes a data frame as the argument. The function should create a linear regression model for the input fish species data frame. For your independent variables use all of the columns other than \"Species\" and \"Weight\". Within the function print the score for the model then return the trained model as output for the function. Run the function once for each of your fish species data frames. Hint: What Pandas functions will help you identify and select specific species? Feel free to refer back to the last workshop if need be!\n",
    "\n",
    "Note: given how small this data set is, expect the score to potentially vary wildly. This happens because often the ````train_test_split```` function might allocate the test data in a region outside the training data. Compare your result to the solutions when you are confident with your function."
   ]
  },
  {
   "cell_type": "code",
   "execution_count": null,
   "metadata": {
    "scrolled": true
   },
   "outputs": [],
   "source": [
    "## SOLUTION CODE CELL\n",
    "# Converts data set to data frame\n",
    "df = pd.read_csv(\"fish-market.zip\")\n",
    "\n",
    "# Determines unique entries to the Species column\n",
    "df[\"Species\"].unique()\n",
    "\n",
    "# Creates new data frames for each species\n",
    "Bream = df.loc[df[\"Species\"] == \"Bream\"]\n",
    "Roach = df.loc[df[\"Species\"] == \"Roach\"]\n",
    "Whitefish = df.loc[df[\"Species\"] == \"Whitefish\"]\n",
    "Parkki = df.loc[df[\"Species\"] == \"Parkki\"]\n",
    "Perch = df.loc[df[\"Species\"] == \"Perch\"]\n",
    "Pike = df.loc[df[\"Species\"] == \"Pike\"]\n",
    "Smelt = df.loc[df[\"Species\"] == \"Smelt\"]\n",
    "\n",
    "# Defines function that will generate a model for a given fish species\n",
    "def Fish_Weight(df):\n",
    "    '''Takes a data frame for one of the chosen fish species and\n",
    "    creates a linear regression model for that species which is \n",
    "    returned as the function output in the form of a trained regressor.'''\n",
    "    \n",
    "    # Independent variables (mayhaps not entirely independent)\n",
    "    X = df.drop([\"Species\",\"Weight\"],axis=1)\n",
    "    # Dependent variable\n",
    "    y = df[\"Weight\"].values.reshape(-1,1)\n",
    "    \n",
    "    # Splitting into test and training sets\n",
    "    X_train, X_test, y_train, y_test = train_test_split(X,y,test_size=0.2)\n",
    "    \n",
    "    # Choosing our regressor\n",
    "    regressor = LinearRegression(n_jobs=-1)\n",
    "    \n",
    "    # Training\n",
    "    fit = regressor.fit(X_train,y_train)\n",
    "    \n",
    "    # Scoring\n",
    "    score = fit.score(X_test,y_test)\n",
    "    print(\"Regressor score:\", score)\n",
    "    \n",
    "    # Returns trained classifier\n",
    "    return fit\n",
    "\n",
    "# Running the function\n",
    "Fish_Weight(Bream)\n",
    "Fish_Weight(Roach)\n",
    "Fish_Weight(Whitefish)\n",
    "Fish_Weight(Parkki)\n",
    "Fish_Weight(Perch)\n",
    "Fish_Weight(Pike)\n",
    "Fish_Weight(Smelt)"
   ]
  },
  {
   "cell_type": "markdown",
   "metadata": {},
   "source": [
    "Besides the lack of data what might be a problem with our choice of independant variables? If you're stuck on this try using ````df.corr()````. This returns a data frame showing the correlation between all the columns."
   ]
  },
  {
   "cell_type": "code",
   "execution_count": null,
   "metadata": {
    "scrolled": true
   },
   "outputs": [],
   "source": [
    "# Table of correlation between variables\n",
    "df.corr()"
   ]
  },
  {
   "cell_type": "markdown",
   "metadata": {},
   "source": [
    "Above we can see that our choice of independant might not be as independant as we thought. The data frame shows a strong positive correlation between many of the variables we chose to be independant. This is a problem because when we change one of these variables the others are likely to change so we'll have very little notion as to which of these changes is what caused the change in weight which is what we are trying to determine."
   ]
  },
  {
   "cell_type": "markdown",
   "metadata": {},
   "source": [
    "### References:\n",
    "\"Salary_Data.csv\": https://www.kaggle.com/uditkhanna112/linear-regressionsalary-vs-experience\n",
    "\n",
    "\"fish-market.zip\": https://www.kaggle.com/aungpyaeap/fish-market"
   ]
  }
 ],
 "metadata": {
  "kernelspec": {
   "display_name": "Python 3",
   "language": "python",
   "name": "python3"
  },
  "language_info": {
   "codemirror_mode": {
    "name": "ipython",
    "version": 3
   },
   "file_extension": ".py",
   "mimetype": "text/x-python",
   "name": "python",
   "nbconvert_exporter": "python",
   "pygments_lexer": "ipython3",
   "version": "3.7.3"
  }
 },
 "nbformat": 4,
 "nbformat_minor": 2
}
